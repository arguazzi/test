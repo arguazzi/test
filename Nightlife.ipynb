{
 "cells": [
  {
   "cell_type": "markdown",
   "metadata": {},
   "source": [
    "## Estimating Nightlife Activity per District"
   ]
  },
  {
   "cell_type": "markdown",
   "metadata": {},
   "source": [
    "Goal: create, for each postcode district in Greater London, a normalized index that can characterize the nature, dynamics, activity, and trends in food and nightlife.\n",
    "\n",
    "\n",
    "To estimate how \"hot\" the nightlife is in a given postcode district in London, we can look at a number of factors:\n",
    "\n",
    "* Population access to the area (TfL)\n",
    "* Number and quality of restaurants in the area (Foursquare, Yelp, Google Places, TripAdvisor, Food Hygiene, Open Street Map, Zomato)\n",
    "* Number of bars and clubs in the area (Licenses, Place Search as above)"
   ]
  },
  {
   "cell_type": "markdown",
   "metadata": {},
   "source": [
    "We should start by defining the area around the district. As most APIs take a distance around a central point, it makes sense to use a circular area around the postcode district centroid."
   ]
  },
  {
   "cell_type": "code",
   "execution_count": 1,
   "metadata": {
    "collapsed": true
   },
   "outputs": [],
   "source": [
    "%matplotlib inline\n",
    "import matplotlib.pyplot as plt\n",
    "import pandas as pd\n",
    "import numpy as np\n",
    "import datetime as dt"
   ]
  },
  {
   "cell_type": "markdown",
   "metadata": {},
   "source": [
    "Import the list of postcode districts from the output of the Mortgage exercise."
   ]
  },
  {
   "cell_type": "code",
   "execution_count": 2,
   "metadata": {
    "collapsed": true
   },
   "outputs": [],
   "source": [
    "pcd = pd.read_csv('/home/alessandro/Documents/placemake/norm_index.csv')"
   ]
  },
  {
   "cell_type": "code",
   "execution_count": 3,
   "metadata": {
    "collapsed": false
   },
   "outputs": [
    {
     "data": {
      "text/html": [
       "<div>\n",
       "<table border=\"1\" class=\"dataframe\">\n",
       "  <thead>\n",
       "    <tr style=\"text-align: right;\">\n",
       "      <th></th>\n",
       "      <th>Unnamed: 0</th>\n",
       "      <th>index</th>\n",
       "      <th>lat</th>\n",
       "      <th>long</th>\n",
       "    </tr>\n",
       "  </thead>\n",
       "  <tbody>\n",
       "    <tr>\n",
       "      <th>0</th>\n",
       "      <td>BR1</td>\n",
       "      <td>0.216560</td>\n",
       "      <td>51.410753</td>\n",
       "      <td>0.019420</td>\n",
       "    </tr>\n",
       "    <tr>\n",
       "      <th>1</th>\n",
       "      <td>BR2</td>\n",
       "      <td>0.197952</td>\n",
       "      <td>51.390385</td>\n",
       "      <td>0.021641</td>\n",
       "    </tr>\n",
       "    <tr>\n",
       "      <th>2</th>\n",
       "      <td>BR3</td>\n",
       "      <td>0.158689</td>\n",
       "      <td>51.403509</td>\n",
       "      <td>-0.031492</td>\n",
       "    </tr>\n",
       "    <tr>\n",
       "      <th>3</th>\n",
       "      <td>BR4</td>\n",
       "      <td>0.168705</td>\n",
       "      <td>51.375654</td>\n",
       "      <td>-0.009797</td>\n",
       "    </tr>\n",
       "    <tr>\n",
       "      <th>4</th>\n",
       "      <td>BR5</td>\n",
       "      <td>0.132930</td>\n",
       "      <td>51.389225</td>\n",
       "      <td>0.102537</td>\n",
       "    </tr>\n",
       "  </tbody>\n",
       "</table>\n",
       "</div>"
      ],
      "text/plain": [
       "  Unnamed: 0     index        lat      long\n",
       "0        BR1  0.216560  51.410753  0.019420\n",
       "1        BR2  0.197952  51.390385  0.021641\n",
       "2        BR3  0.158689  51.403509 -0.031492\n",
       "3        BR4  0.168705  51.375654 -0.009797\n",
       "4        BR5  0.132930  51.389225  0.102537"
      ]
     },
     "execution_count": 3,
     "metadata": {},
     "output_type": "execute_result"
    }
   ],
   "source": [
    "pcd.head()"
   ]
  },
  {
   "cell_type": "code",
   "execution_count": 4,
   "metadata": {
    "collapsed": false
   },
   "outputs": [],
   "source": [
    "pcd = pcd.rename(columns={'Unnamed: 0': 'District'})"
   ]
  },
  {
   "cell_type": "markdown",
   "metadata": {},
   "source": [
    "### District areas"
   ]
  },
  {
   "cell_type": "markdown",
   "metadata": {},
   "source": [
    "Need to create a distance matrix to evaluate the distances between each district and then get the minimum distance as the length of the diameter of the circle around the centroid. This is obviously only an approximation but at least minimises overlap between districts."
   ]
  },
  {
   "cell_type": "code",
   "execution_count": 5,
   "metadata": {
    "collapsed": false
   },
   "outputs": [],
   "source": [
    "from geopy.distance import vincenty\n",
    "\n",
    "\n",
    "# assumes your DataFrame is named df, and its lon and lat columns are named lon and lat. Adjust as needed.\n",
    "pcd['coords'] = zip(pcd.lat, pcd.long)\n",
    "# first, let's create a square DataFrame (think of it as a matrix if you like)\n",
    "square = pd.DataFrame(\n",
    "    np.zeros(len(pcd) ** 2).reshape(len(pcd), len(pcd)),\n",
    "    index=pcd.index, columns=pcd.index)\n",
    "\n",
    "def get_distance(col):\n",
    "    end = pcd.ix[col.name]['coords']\n",
    "    return pcd['coords'].apply(vincenty, args=(end,), ellipsoid='WGS-84')\n",
    "\n",
    "distance_matrix = square.apply(get_distance, axis=1).T\n",
    "\n",
    "def units(input_instance):\n",
    "    return input_instance.meters\n",
    "\n",
    "distance_matrix = distance_matrix.applymap(units)"
   ]
  },
  {
   "cell_type": "code",
   "execution_count": 6,
   "metadata": {
    "collapsed": false
   },
   "outputs": [
    {
     "data": {
      "text/html": [
       "<div>\n",
       "<table border=\"1\" class=\"dataframe\">\n",
       "  <thead>\n",
       "    <tr style=\"text-align: right;\">\n",
       "      <th></th>\n",
       "      <th>0</th>\n",
       "      <th>1</th>\n",
       "      <th>2</th>\n",
       "      <th>3</th>\n",
       "      <th>4</th>\n",
       "      <th>5</th>\n",
       "      <th>6</th>\n",
       "      <th>7</th>\n",
       "      <th>8</th>\n",
       "      <th>9</th>\n",
       "      <th>...</th>\n",
       "      <th>253</th>\n",
       "      <th>254</th>\n",
       "      <th>255</th>\n",
       "      <th>256</th>\n",
       "      <th>257</th>\n",
       "      <th>258</th>\n",
       "      <th>259</th>\n",
       "      <th>260</th>\n",
       "      <th>261</th>\n",
       "      <th>262</th>\n",
       "    </tr>\n",
       "  </thead>\n",
       "  <tbody>\n",
       "    <tr>\n",
       "      <th>0</th>\n",
       "      <td>0.000000</td>\n",
       "      <td>2271.313684</td>\n",
       "      <td>3633.067259</td>\n",
       "      <td>4402.743871</td>\n",
       "      <td>6260.590948</td>\n",
       "      <td>6968.601748</td>\n",
       "      <td>2820.476281</td>\n",
       "      <td>8570.491282</td>\n",
       "      <td>7957.067636</td>\n",
       "      <td>10839.127995</td>\n",
       "      <td>...</td>\n",
       "      <td>15265.714954</td>\n",
       "      <td>15811.214348</td>\n",
       "      <td>15004.506271</td>\n",
       "      <td>15153.470679</td>\n",
       "      <td>15072.945961</td>\n",
       "      <td>15355.034576</td>\n",
       "      <td>14805.414835</td>\n",
       "      <td>34773.959855</td>\n",
       "      <td>42819.662399</td>\n",
       "      <td>32135.008298</td>\n",
       "    </tr>\n",
       "    <tr>\n",
       "      <th>1</th>\n",
       "      <td>2271.313684</td>\n",
       "      <td>0.000000</td>\n",
       "      <td>3975.719387</td>\n",
       "      <td>2734.277534</td>\n",
       "      <td>5632.464940</td>\n",
       "      <td>5506.914831</td>\n",
       "      <td>3573.628114</td>\n",
       "      <td>8284.537237</td>\n",
       "      <td>7185.119830</td>\n",
       "      <td>9589.019854</td>\n",
       "      <td>...</td>\n",
       "      <td>17179.480273</td>\n",
       "      <td>17759.685945</td>\n",
       "      <td>16921.647412</td>\n",
       "      <td>17041.197054</td>\n",
       "      <td>16934.153684</td>\n",
       "      <td>17206.211362</td>\n",
       "      <td>16689.034779</td>\n",
       "      <td>36520.759650</td>\n",
       "      <td>44253.521808</td>\n",
       "      <td>34071.711727</td>\n",
       "    </tr>\n",
       "    <tr>\n",
       "      <th>2</th>\n",
       "      <td>3633.067259</td>\n",
       "      <td>3975.719387</td>\n",
       "      <td>0.000000</td>\n",
       "      <td>3447.355595</td>\n",
       "      <td>9462.536324</td>\n",
       "      <td>9469.777765</td>\n",
       "      <td>6427.259116</td>\n",
       "      <td>11985.614133</td>\n",
       "      <td>4670.122331</td>\n",
       "      <td>7890.171455</td>\n",
       "      <td>...</td>\n",
       "      <td>14062.525294</td>\n",
       "      <td>14707.643665</td>\n",
       "      <td>13816.701880</td>\n",
       "      <td>13873.692195</td>\n",
       "      <td>13717.420174</td>\n",
       "      <td>13966.110638</td>\n",
       "      <td>13520.012049</td>\n",
       "      <td>32991.963616</td>\n",
       "      <td>40422.990052</td>\n",
       "      <td>30857.971810</td>\n",
       "    </tr>\n",
       "    <tr>\n",
       "      <th>3</th>\n",
       "      <td>4402.743871</td>\n",
       "      <td>2734.277534</td>\n",
       "      <td>3447.355595</td>\n",
       "      <td>0.000000</td>\n",
       "      <td>7964.983108</td>\n",
       "      <td>7127.497989</td>\n",
       "      <td>6302.012366</td>\n",
       "      <td>10694.066692</td>\n",
       "      <td>4744.675621</td>\n",
       "      <td>6869.393353</td>\n",
       "      <td>...</td>\n",
       "      <td>17509.693127</td>\n",
       "      <td>18153.118691</td>\n",
       "      <td>17263.587922</td>\n",
       "      <td>17320.900485</td>\n",
       "      <td>17163.314375</td>\n",
       "      <td>17410.648535</td>\n",
       "      <td>16967.256743</td>\n",
       "      <td>36352.880271</td>\n",
       "      <td>43542.354707</td>\n",
       "      <td>34296.594583</td>\n",
       "    </tr>\n",
       "    <tr>\n",
       "      <th>4</th>\n",
       "      <td>6260.590948</td>\n",
       "      <td>5632.464940</td>\n",
       "      <td>9462.536324</td>\n",
       "      <td>7964.983108</td>\n",
       "      <td>0.000000</td>\n",
       "      <td>2540.199837</td>\n",
       "      <td>3885.727777</td>\n",
       "      <td>2737.670657</td>\n",
       "      <td>12683.327927</td>\n",
       "      <td>14635.153680</td>\n",
       "      <td>...</td>\n",
       "      <td>20969.125792</td>\n",
       "      <td>21435.723022</td>\n",
       "      <td>20705.671625</td>\n",
       "      <td>20906.356917</td>\n",
       "      <td>20871.968374</td>\n",
       "      <td>21166.300573</td>\n",
       "      <td>20570.774563</td>\n",
       "      <td>40620.597568</td>\n",
       "      <td>48968.324554</td>\n",
       "      <td>37635.034586</td>\n",
       "    </tr>\n",
       "  </tbody>\n",
       "</table>\n",
       "<p>5 rows × 263 columns</p>\n",
       "</div>"
      ],
      "text/plain": [
       "           0            1            2            3            4    \\\n",
       "0     0.000000  2271.313684  3633.067259  4402.743871  6260.590948   \n",
       "1  2271.313684     0.000000  3975.719387  2734.277534  5632.464940   \n",
       "2  3633.067259  3975.719387     0.000000  3447.355595  9462.536324   \n",
       "3  4402.743871  2734.277534  3447.355595     0.000000  7964.983108   \n",
       "4  6260.590948  5632.464940  9462.536324  7964.983108     0.000000   \n",
       "\n",
       "           5            6             7             8             9    \\\n",
       "0  6968.601748  2820.476281   8570.491282   7957.067636  10839.127995   \n",
       "1  5506.914831  3573.628114   8284.537237   7185.119830   9589.019854   \n",
       "2  9469.777765  6427.259116  11985.614133   4670.122331   7890.171455   \n",
       "3  7127.497989  6302.012366  10694.066692   4744.675621   6869.393353   \n",
       "4  2540.199837  3885.727777   2737.670657  12683.327927  14635.153680   \n",
       "\n",
       "       ...                253           254           255           256  \\\n",
       "0      ...       15265.714954  15811.214348  15004.506271  15153.470679   \n",
       "1      ...       17179.480273  17759.685945  16921.647412  17041.197054   \n",
       "2      ...       14062.525294  14707.643665  13816.701880  13873.692195   \n",
       "3      ...       17509.693127  18153.118691  17263.587922  17320.900485   \n",
       "4      ...       20969.125792  21435.723022  20705.671625  20906.356917   \n",
       "\n",
       "            257           258           259           260           261  \\\n",
       "0  15072.945961  15355.034576  14805.414835  34773.959855  42819.662399   \n",
       "1  16934.153684  17206.211362  16689.034779  36520.759650  44253.521808   \n",
       "2  13717.420174  13966.110638  13520.012049  32991.963616  40422.990052   \n",
       "3  17163.314375  17410.648535  16967.256743  36352.880271  43542.354707   \n",
       "4  20871.968374  21166.300573  20570.774563  40620.597568  48968.324554   \n",
       "\n",
       "            262  \n",
       "0  32135.008298  \n",
       "1  34071.711727  \n",
       "2  30857.971810  \n",
       "3  34296.594583  \n",
       "4  37635.034586  \n",
       "\n",
       "[5 rows x 263 columns]"
      ]
     },
     "execution_count": 6,
     "metadata": {},
     "output_type": "execute_result"
    }
   ],
   "source": [
    "distance_matrix.head()"
   ]
  },
  {
   "cell_type": "code",
   "execution_count": 7,
   "metadata": {
    "collapsed": false
   },
   "outputs": [],
   "source": [
    "min_distances = distance_matrix[distance_matrix>0].min()"
   ]
  },
  {
   "cell_type": "code",
   "execution_count": 8,
   "metadata": {
    "collapsed": false
   },
   "outputs": [],
   "source": [
    "pcd['radius'] = min_distances/2"
   ]
  },
  {
   "cell_type": "markdown",
   "metadata": {},
   "source": [
    "### Government Data - Licenses"
   ]
  },
  {
   "cell_type": "markdown",
   "metadata": {},
   "source": [
    "There are a number of government datasets that can be used to answer some of the questions in the problem. One of the most useful ones is the dataset for licenses for bars, pubs, etc. The data is a bit patchy but can aid in normalising the indexes and can help understand what kind of trends occur (data is available, with some years missing, from 2008 to 2016).\n",
    "\n",
    "It is available here:\n",
    "\n",
    "https://data.london.gov.uk/dataset/number-premises-licences-and-club-premises-certificates"
   ]
  },
  {
   "cell_type": "code",
   "execution_count": 9,
   "metadata": {
    "collapsed": false
   },
   "outputs": [],
   "source": [
    "licenses = pd.read_excel('/home/alessandro/Documents/placemake/nightlife/number-premises-licences-club-premises-certificates.xls', sheetname='31 Mar 16', skiprows=1)"
   ]
  },
  {
   "cell_type": "code",
   "execution_count": 10,
   "metadata": {
    "collapsed": false
   },
   "outputs": [
    {
     "data": {
      "text/html": [
       "<div>\n",
       "<table border=\"1\" class=\"dataframe\">\n",
       "  <thead>\n",
       "    <tr style=\"text-align: right;\">\n",
       "      <th></th>\n",
       "      <th>LA Code</th>\n",
       "      <th>LA Code (old format)</th>\n",
       "      <th>Licensing Authority</th>\n",
       "      <th>Total number of premises licences in force authorising the provision of some form of regulated entertainment</th>\n",
       "      <th>Plays</th>\n",
       "      <th>Films</th>\n",
       "      <th>Indoor sporting events</th>\n",
       "      <th>Boxing or wrestling</th>\n",
       "      <th>Live music</th>\n",
       "      <th>Recorded music</th>\n",
       "      <th>...</th>\n",
       "      <th>Entertainment similar to live music, recorded music or dance</th>\n",
       "      <th>Total number of club premises certificates in force authorising the provision of some form of regulated entertainment</th>\n",
       "      <th>Plays.1</th>\n",
       "      <th>Films.1</th>\n",
       "      <th>Indoor sporting events.1</th>\n",
       "      <th>Boxing or wrestling.1</th>\n",
       "      <th>Live music.1</th>\n",
       "      <th>Recorded music.1</th>\n",
       "      <th>Performance of dance.1</th>\n",
       "      <th>Entertainment similar to live music, recorded music or dance.1</th>\n",
       "    </tr>\n",
       "  </thead>\n",
       "  <tbody>\n",
       "    <tr>\n",
       "      <th>0</th>\n",
       "      <td>E09000001</td>\n",
       "      <td>00AA</td>\n",
       "      <td>City of London Corporation</td>\n",
       "      <td>619</td>\n",
       "      <td>88</td>\n",
       "      <td>197</td>\n",
       "      <td>74</td>\n",
       "      <td>13</td>\n",
       "      <td>274</td>\n",
       "      <td>606</td>\n",
       "      <td>...</td>\n",
       "      <td>0</td>\n",
       "      <td>1</td>\n",
       "      <td>0</td>\n",
       "      <td>0</td>\n",
       "      <td>0</td>\n",
       "      <td>0</td>\n",
       "      <td>1</td>\n",
       "      <td>0</td>\n",
       "      <td>1</td>\n",
       "      <td>1</td>\n",
       "    </tr>\n",
       "    <tr>\n",
       "      <th>1</th>\n",
       "      <td>E09000002</td>\n",
       "      <td>00AB</td>\n",
       "      <td>Barking and Dagenham</td>\n",
       "      <td>86</td>\n",
       "      <td>12</td>\n",
       "      <td>30</td>\n",
       "      <td>22</td>\n",
       "      <td>2</td>\n",
       "      <td>60</td>\n",
       "      <td>83</td>\n",
       "      <td>...</td>\n",
       "      <td>19</td>\n",
       "      <td>4</td>\n",
       "      <td>2</td>\n",
       "      <td>3</td>\n",
       "      <td>3</td>\n",
       "      <td>0</td>\n",
       "      <td>3</td>\n",
       "      <td>4</td>\n",
       "      <td>2</td>\n",
       "      <td>2</td>\n",
       "    </tr>\n",
       "    <tr>\n",
       "      <th>2</th>\n",
       "      <td>E09000003</td>\n",
       "      <td>00AC</td>\n",
       "      <td>Barnet</td>\n",
       "      <td>-</td>\n",
       "      <td>-</td>\n",
       "      <td>-</td>\n",
       "      <td>-</td>\n",
       "      <td>-</td>\n",
       "      <td>-</td>\n",
       "      <td>-</td>\n",
       "      <td>...</td>\n",
       "      <td>-</td>\n",
       "      <td>-</td>\n",
       "      <td>-</td>\n",
       "      <td>-</td>\n",
       "      <td>-</td>\n",
       "      <td>-</td>\n",
       "      <td>-</td>\n",
       "      <td>-</td>\n",
       "      <td>-</td>\n",
       "      <td>-</td>\n",
       "    </tr>\n",
       "    <tr>\n",
       "      <th>3</th>\n",
       "      <td>E09000004</td>\n",
       "      <td>00AD</td>\n",
       "      <td>Bexley</td>\n",
       "      <td>174</td>\n",
       "      <td>37</td>\n",
       "      <td>68</td>\n",
       "      <td>52</td>\n",
       "      <td>3</td>\n",
       "      <td>142</td>\n",
       "      <td>157</td>\n",
       "      <td>...</td>\n",
       "      <td>7</td>\n",
       "      <td>44</td>\n",
       "      <td>10</td>\n",
       "      <td>10</td>\n",
       "      <td>10</td>\n",
       "      <td>0</td>\n",
       "      <td>42</td>\n",
       "      <td>34</td>\n",
       "      <td>23</td>\n",
       "      <td>0</td>\n",
       "    </tr>\n",
       "    <tr>\n",
       "      <th>4</th>\n",
       "      <td>E09000005</td>\n",
       "      <td>00AE</td>\n",
       "      <td>Brent</td>\n",
       "      <td>252</td>\n",
       "      <td>52</td>\n",
       "      <td>94</td>\n",
       "      <td>47</td>\n",
       "      <td>16</td>\n",
       "      <td>217</td>\n",
       "      <td>252</td>\n",
       "      <td>...</td>\n",
       "      <td>140</td>\n",
       "      <td>20</td>\n",
       "      <td>5</td>\n",
       "      <td>4</td>\n",
       "      <td>9</td>\n",
       "      <td>1</td>\n",
       "      <td>19</td>\n",
       "      <td>20</td>\n",
       "      <td>18</td>\n",
       "      <td>8</td>\n",
       "    </tr>\n",
       "  </tbody>\n",
       "</table>\n",
       "<p>5 rows × 21 columns</p>\n",
       "</div>"
      ],
      "text/plain": [
       "     LA Code LA Code (old format)          Licensing Authority  \\\n",
       "0  E09000001                 00AA  City of London Corporation    \n",
       "1  E09000002                 00AB         Barking and Dagenham   \n",
       "2  E09000003                 00AC                       Barnet   \n",
       "3  E09000004                 00AD                       Bexley   \n",
       "4  E09000005                 00AE                        Brent   \n",
       "\n",
       "  Total number of premises licences in force authorising the provision of some form of regulated entertainment  \\\n",
       "0                                                619                                                             \n",
       "1                                                 86                                                             \n",
       "2                                                  -                                                             \n",
       "3                                                174                                                             \n",
       "4                                                252                                                             \n",
       "\n",
       "  Plays Films Indoor sporting events Boxing or wrestling Live music  \\\n",
       "0    88   197                     74                  13        274   \n",
       "1    12    30                     22                   2         60   \n",
       "2     -     -                      -                   -          -   \n",
       "3    37    68                     52                   3        142   \n",
       "4    52    94                     47                  16        217   \n",
       "\n",
       "  Recorded music  \\\n",
       "0            606   \n",
       "1             83   \n",
       "2              -   \n",
       "3            157   \n",
       "4            252   \n",
       "\n",
       "                               ...                                \\\n",
       "0                              ...                                 \n",
       "1                              ...                                 \n",
       "2                              ...                                 \n",
       "3                              ...                                 \n",
       "4                              ...                                 \n",
       "\n",
       "  Entertainment similar to live music, recorded music or dance  \\\n",
       "0                                                  0             \n",
       "1                                                 19             \n",
       "2                                                  -             \n",
       "3                                                  7             \n",
       "4                                                140             \n",
       "\n",
       "  Total number of club premises certificates in force authorising the provision of some form of regulated entertainment  \\\n",
       "0                                                  1                                                                      \n",
       "1                                                  4                                                                      \n",
       "2                                                  -                                                                      \n",
       "3                                                 44                                                                      \n",
       "4                                                 20                                                                      \n",
       "\n",
       "  Plays.1 Films.1 Indoor sporting events.1 Boxing or wrestling.1 Live music.1  \\\n",
       "0       0       0                        0                     0            1   \n",
       "1       2       3                        3                     0            3   \n",
       "2       -       -                        -                     -            -   \n",
       "3      10      10                       10                     0           42   \n",
       "4       5       4                        9                     1           19   \n",
       "\n",
       "  Recorded music.1 Performance of dance.1  \\\n",
       "0                0                      1   \n",
       "1                4                      2   \n",
       "2                -                      -   \n",
       "3               34                     23   \n",
       "4               20                     18   \n",
       "\n",
       "  Entertainment similar to live music, recorded music or dance.1  \n",
       "0                                                  1              \n",
       "1                                                  2              \n",
       "2                                                  -              \n",
       "3                                                  0              \n",
       "4                                                  8              \n",
       "\n",
       "[5 rows x 21 columns]"
      ]
     },
     "execution_count": 10,
     "metadata": {},
     "output_type": "execute_result"
    }
   ],
   "source": [
    "licenses.head()"
   ]
  },
  {
   "cell_type": "code",
   "execution_count": 11,
   "metadata": {
    "collapsed": false
   },
   "outputs": [],
   "source": [
    "licenses = licenses.iloc[:-3,:]"
   ]
  },
  {
   "cell_type": "markdown",
   "metadata": {},
   "source": [
    "Now need to attribute postcodes to each \"licensing authority\". This can be done by matching them on the ONS postcode directory:\n",
    "\n",
    "https://data.london.gov.uk/dataset/postcode-directory-for-london"
   ]
  },
  {
   "cell_type": "code",
   "execution_count": 12,
   "metadata": {
    "collapsed": false
   },
   "outputs": [],
   "source": [
    "postcode_ons = pd.read_csv('/home/alessandro/Documents/placemake/London_postcode-ONS-postcode-Directory-May15.csv')"
   ]
  },
  {
   "cell_type": "code",
   "execution_count": 13,
   "metadata": {
    "collapsed": false
   },
   "outputs": [],
   "source": [
    "postcode_la = postcode_ons[['pcd', 'oslaua']]\n",
    "del postcode_ons"
   ]
  },
  {
   "cell_type": "code",
   "execution_count": 14,
   "metadata": {
    "collapsed": false
   },
   "outputs": [],
   "source": [
    "postcode_la['district'] = postcode_la.pcd.apply(lambda x: x[:-4])"
   ]
  },
  {
   "cell_type": "code",
   "execution_count": 15,
   "metadata": {
    "collapsed": false
   },
   "outputs": [],
   "source": [
    "postcode_la = postcode_la.groupby(postcode_la.district).first().reset_index(drop=True)"
   ]
  },
  {
   "cell_type": "code",
   "execution_count": 16,
   "metadata": {
    "collapsed": false
   },
   "outputs": [],
   "source": [
    "pcd['LocalAuthority'] = postcode_la.oslaua"
   ]
  },
  {
   "cell_type": "code",
   "execution_count": 17,
   "metadata": {
    "collapsed": false
   },
   "outputs": [
    {
     "data": {
      "text/html": [
       "<div>\n",
       "<table border=\"1\" class=\"dataframe\">\n",
       "  <thead>\n",
       "    <tr style=\"text-align: right;\">\n",
       "      <th></th>\n",
       "      <th>District</th>\n",
       "      <th>index</th>\n",
       "      <th>lat</th>\n",
       "      <th>long</th>\n",
       "      <th>coords</th>\n",
       "      <th>radius</th>\n",
       "      <th>LocalAuthority</th>\n",
       "    </tr>\n",
       "  </thead>\n",
       "  <tbody>\n",
       "    <tr>\n",
       "      <th>0</th>\n",
       "      <td>BR1</td>\n",
       "      <td>0.216560</td>\n",
       "      <td>51.410753</td>\n",
       "      <td>0.019420</td>\n",
       "      <td>(51.4107531862, 0.0194202509747)</td>\n",
       "      <td>1135.656842</td>\n",
       "      <td>E09000006</td>\n",
       "    </tr>\n",
       "    <tr>\n",
       "      <th>1</th>\n",
       "      <td>BR2</td>\n",
       "      <td>0.197952</td>\n",
       "      <td>51.390385</td>\n",
       "      <td>0.021641</td>\n",
       "      <td>(51.3903853052, 0.0216414455587)</td>\n",
       "      <td>1135.656842</td>\n",
       "      <td>E09000006</td>\n",
       "    </tr>\n",
       "    <tr>\n",
       "      <th>2</th>\n",
       "      <td>BR3</td>\n",
       "      <td>0.158689</td>\n",
       "      <td>51.403509</td>\n",
       "      <td>-0.031492</td>\n",
       "      <td>(51.4035087892, -0.0314917635659)</td>\n",
       "      <td>1066.962303</td>\n",
       "      <td>E09000006</td>\n",
       "    </tr>\n",
       "    <tr>\n",
       "      <th>3</th>\n",
       "      <td>BR4</td>\n",
       "      <td>0.168705</td>\n",
       "      <td>51.375654</td>\n",
       "      <td>-0.009797</td>\n",
       "      <td>(51.375654222, -0.00979661456483)</td>\n",
       "      <td>1367.138767</td>\n",
       "      <td>E09000006</td>\n",
       "    </tr>\n",
       "    <tr>\n",
       "      <th>4</th>\n",
       "      <td>BR5</td>\n",
       "      <td>0.132930</td>\n",
       "      <td>51.389225</td>\n",
       "      <td>0.102537</td>\n",
       "      <td>(51.3892249387, 0.10253728911)</td>\n",
       "      <td>1270.099918</td>\n",
       "      <td>E09000006</td>\n",
       "    </tr>\n",
       "  </tbody>\n",
       "</table>\n",
       "</div>"
      ],
      "text/plain": [
       "  District     index        lat      long                             coords  \\\n",
       "0      BR1  0.216560  51.410753  0.019420   (51.4107531862, 0.0194202509747)   \n",
       "1      BR2  0.197952  51.390385  0.021641   (51.3903853052, 0.0216414455587)   \n",
       "2      BR3  0.158689  51.403509 -0.031492  (51.4035087892, -0.0314917635659)   \n",
       "3      BR4  0.168705  51.375654 -0.009797  (51.375654222, -0.00979661456483)   \n",
       "4      BR5  0.132930  51.389225  0.102537     (51.3892249387, 0.10253728911)   \n",
       "\n",
       "        radius LocalAuthority  \n",
       "0  1135.656842      E09000006  \n",
       "1  1135.656842      E09000006  \n",
       "2  1066.962303      E09000006  \n",
       "3  1367.138767      E09000006  \n",
       "4  1270.099918      E09000006  "
      ]
     },
     "execution_count": 17,
     "metadata": {},
     "output_type": "execute_result"
    }
   ],
   "source": [
    "pcd.head()"
   ]
  },
  {
   "cell_type": "code",
   "execution_count": 18,
   "metadata": {
    "collapsed": false
   },
   "outputs": [],
   "source": [
    "licenses_short = pd.DataFrame(data=[licenses['LA Code'], licenses['Total number of premises licences in force authorising the provision of some form of regulated entertainment'], licenses['Total number of club premises certificates in force authorising the provision of some form of regulated entertainment']])"
   ]
  },
  {
   "cell_type": "code",
   "execution_count": 19,
   "metadata": {
    "collapsed": false
   },
   "outputs": [],
   "source": [
    "licenses_short = licenses_short.T\n",
    "licenses_short.columns = ['LA Code', 'Premises', 'Certificates']"
   ]
  },
  {
   "cell_type": "code",
   "execution_count": 20,
   "metadata": {
    "collapsed": false
   },
   "outputs": [],
   "source": [
    "licenses_short['Premises'] = pd.to_numeric(licenses_short['Premises'], errors='coerce')\n",
    "licenses_short['Certificates'] = pd.to_numeric(licenses_short['Certificates'], errors='coerce')"
   ]
  },
  {
   "cell_type": "markdown",
   "metadata": {},
   "source": [
    "Let's distribute these amongst the post-code districts. As we have no prior knowledge, these will be distributed evenly."
   ]
  },
  {
   "cell_type": "code",
   "execution_count": 21,
   "metadata": {
    "collapsed": true
   },
   "outputs": [],
   "source": [
    "nlix = pd.DataFrame(index=pcd.District, columns=['Premises', 'Certificates'])"
   ]
  },
  {
   "cell_type": "code",
   "execution_count": 22,
   "metadata": {
    "collapsed": false
   },
   "outputs": [],
   "source": [
    "la_group = pcd.groupby('LocalAuthority')\n",
    "for i in range(0, len(licenses_short)):\n",
    "    if licenses_short['LA Code'][i] in la_group.groups.keys():\n",
    "        df = la_group.get_group(licenses_short['LA Code'][i])\n",
    "        for distr in df['District'].index:\n",
    "            nlix.ix[distr, 'Premises'] = licenses_short['Premises'][i]/df.shape[0]\n",
    "            nlix.ix[distr, 'Certificates'] = licenses_short['Certificates'][i]/df.shape[0]"
   ]
  },
  {
   "cell_type": "code",
   "execution_count": 23,
   "metadata": {
    "collapsed": false
   },
   "outputs": [
    {
     "data": {
      "text/html": [
       "<div>\n",
       "<table border=\"1\" class=\"dataframe\">\n",
       "  <thead>\n",
       "    <tr style=\"text-align: right;\">\n",
       "      <th></th>\n",
       "      <th>Premises</th>\n",
       "      <th>Certificates</th>\n",
       "    </tr>\n",
       "    <tr>\n",
       "      <th>District</th>\n",
       "      <th></th>\n",
       "      <th></th>\n",
       "    </tr>\n",
       "  </thead>\n",
       "  <tbody>\n",
       "    <tr>\n",
       "      <th>BR1</th>\n",
       "      <td>NaN</td>\n",
       "      <td>NaN</td>\n",
       "    </tr>\n",
       "    <tr>\n",
       "      <th>BR2</th>\n",
       "      <td>NaN</td>\n",
       "      <td>NaN</td>\n",
       "    </tr>\n",
       "    <tr>\n",
       "      <th>BR3</th>\n",
       "      <td>NaN</td>\n",
       "      <td>NaN</td>\n",
       "    </tr>\n",
       "    <tr>\n",
       "      <th>BR4</th>\n",
       "      <td>NaN</td>\n",
       "      <td>NaN</td>\n",
       "    </tr>\n",
       "    <tr>\n",
       "      <th>BR5</th>\n",
       "      <td>NaN</td>\n",
       "      <td>NaN</td>\n",
       "    </tr>\n",
       "  </tbody>\n",
       "</table>\n",
       "</div>"
      ],
      "text/plain": [
       "         Premises Certificates\n",
       "District                      \n",
       "BR1           NaN          NaN\n",
       "BR2           NaN          NaN\n",
       "BR3           NaN          NaN\n",
       "BR4           NaN          NaN\n",
       "BR5           NaN          NaN"
      ]
     },
     "execution_count": 23,
     "metadata": {},
     "output_type": "execute_result"
    }
   ],
   "source": [
    "nlix.head()"
   ]
  },
  {
   "cell_type": "markdown",
   "metadata": {},
   "source": [
    "### Popularity - TfL"
   ]
  },
  {
   "cell_type": "markdown",
   "metadata": {},
   "source": [
    "A good way of capturing the popularity of an area is also to look at historic trends to and from the area. TfL provides a couple of datasets that can help in this:\n",
    "\n",
    "https://api-portal.tfl.gov.uk/docs\n",
    "\n",
    "We're particularly interested in evening to late morning entries and exits from the area."
   ]
  },
  {
   "cell_type": "code",
   "execution_count": 24,
   "metadata": {
    "collapsed": false
   },
   "outputs": [],
   "source": [
    "weekday_entries = pd.read_csv('/home/alessandro/Documents/placemake/nightlife/counts/En16week.csv', skiprows=6)"
   ]
  },
  {
   "cell_type": "code",
   "execution_count": 25,
   "metadata": {
    "collapsed": false
   },
   "outputs": [
    {
     "data": {
      "text/html": [
       "<div>\n",
       "<table border=\"1\" class=\"dataframe\">\n",
       "  <thead>\n",
       "    <tr style=\"text-align: right;\">\n",
       "      <th></th>\n",
       "      <th>nlc</th>\n",
       "      <th>Station</th>\n",
       "      <th>Date</th>\n",
       "      <th>Note</th>\n",
       "      <th>0200-0215</th>\n",
       "      <th>0215-0230</th>\n",
       "      <th>0230-0245</th>\n",
       "      <th>0245-0300</th>\n",
       "      <th>0300-0315</th>\n",
       "      <th>0315-0330</th>\n",
       "      <th>...</th>\n",
       "      <th>0000-0015</th>\n",
       "      <th>0015-0030</th>\n",
       "      <th>0030-0045</th>\n",
       "      <th>0045-0100</th>\n",
       "      <th>0100-0115</th>\n",
       "      <th>0115-0130</th>\n",
       "      <th>0130-0145</th>\n",
       "      <th>0145-0200</th>\n",
       "      <th></th>\n",
       "      <th>Total</th>\n",
       "    </tr>\n",
       "  </thead>\n",
       "  <tbody>\n",
       "    <tr>\n",
       "      <th>0</th>\n",
       "      <td>500.0</td>\n",
       "      <td>Acton Town</td>\n",
       "      <td>Nov-15</td>\n",
       "      <td>NaN</td>\n",
       "      <td>0</td>\n",
       "      <td>0</td>\n",
       "      <td>0</td>\n",
       "      <td>0</td>\n",
       "      <td>0</td>\n",
       "      <td>0</td>\n",
       "      <td>...</td>\n",
       "      <td>15</td>\n",
       "      <td>9</td>\n",
       "      <td>6</td>\n",
       "      <td>4</td>\n",
       "      <td>2</td>\n",
       "      <td>0</td>\n",
       "      <td>0</td>\n",
       "      <td>0</td>\n",
       "      <td>NaN</td>\n",
       "      <td>9994</td>\n",
       "    </tr>\n",
       "    <tr>\n",
       "      <th>1</th>\n",
       "      <td>502.0</td>\n",
       "      <td>Aldgate</td>\n",
       "      <td>Nov-16</td>\n",
       "      <td>NaN</td>\n",
       "      <td>0</td>\n",
       "      <td>0</td>\n",
       "      <td>0</td>\n",
       "      <td>0</td>\n",
       "      <td>0</td>\n",
       "      <td>0</td>\n",
       "      <td>...</td>\n",
       "      <td>15</td>\n",
       "      <td>6</td>\n",
       "      <td>2</td>\n",
       "      <td>0</td>\n",
       "      <td>0</td>\n",
       "      <td>0</td>\n",
       "      <td>0</td>\n",
       "      <td>0</td>\n",
       "      <td>NaN</td>\n",
       "      <td>14212</td>\n",
       "    </tr>\n",
       "    <tr>\n",
       "      <th>2</th>\n",
       "      <td>503.0</td>\n",
       "      <td>Aldgate East</td>\n",
       "      <td>Nov-16</td>\n",
       "      <td>NaN</td>\n",
       "      <td>0</td>\n",
       "      <td>0</td>\n",
       "      <td>0</td>\n",
       "      <td>0</td>\n",
       "      <td>0</td>\n",
       "      <td>0</td>\n",
       "      <td>...</td>\n",
       "      <td>67</td>\n",
       "      <td>37</td>\n",
       "      <td>13</td>\n",
       "      <td>4</td>\n",
       "      <td>0</td>\n",
       "      <td>0</td>\n",
       "      <td>0</td>\n",
       "      <td>0</td>\n",
       "      <td>NaN</td>\n",
       "      <td>21468</td>\n",
       "    </tr>\n",
       "    <tr>\n",
       "      <th>3</th>\n",
       "      <td>505.0</td>\n",
       "      <td>Alperton</td>\n",
       "      <td>Nov-16</td>\n",
       "      <td>NaN</td>\n",
       "      <td>0</td>\n",
       "      <td>0</td>\n",
       "      <td>0</td>\n",
       "      <td>0</td>\n",
       "      <td>0</td>\n",
       "      <td>0</td>\n",
       "      <td>...</td>\n",
       "      <td>3</td>\n",
       "      <td>2</td>\n",
       "      <td>2</td>\n",
       "      <td>1</td>\n",
       "      <td>0</td>\n",
       "      <td>0</td>\n",
       "      <td>0</td>\n",
       "      <td>0</td>\n",
       "      <td>NaN</td>\n",
       "      <td>4821</td>\n",
       "    </tr>\n",
       "    <tr>\n",
       "      <th>4</th>\n",
       "      <td>506.0</td>\n",
       "      <td>Amersham</td>\n",
       "      <td>Nov-16</td>\n",
       "      <td>NaN</td>\n",
       "      <td>0</td>\n",
       "      <td>0</td>\n",
       "      <td>0</td>\n",
       "      <td>0</td>\n",
       "      <td>0</td>\n",
       "      <td>0</td>\n",
       "      <td>...</td>\n",
       "      <td>0</td>\n",
       "      <td>0</td>\n",
       "      <td>0</td>\n",
       "      <td>0</td>\n",
       "      <td>0</td>\n",
       "      <td>0</td>\n",
       "      <td>0</td>\n",
       "      <td>0</td>\n",
       "      <td>NaN</td>\n",
       "      <td>3899</td>\n",
       "    </tr>\n",
       "  </tbody>\n",
       "</table>\n",
       "<p>5 rows × 102 columns</p>\n",
       "</div>"
      ],
      "text/plain": [
       "     nlc       Station    Date   Note  0200-0215   0215-0230   0230-0245  \\\n",
       "0  500.0    Acton Town  Nov-15    NaN          0           0           0   \n",
       "1  502.0       Aldgate  Nov-16    NaN          0           0           0   \n",
       "2  503.0  Aldgate East  Nov-16    NaN          0           0           0   \n",
       "3  505.0      Alperton  Nov-16    NaN          0           0           0   \n",
       "4  506.0      Amersham  Nov-16    NaN          0           0           0   \n",
       "\n",
       "    0245-0300   0300-0315   0315-0330   ...     0000-0015   0015-0030  \\\n",
       "0           0           0           0   ...            15           9   \n",
       "1           0           0           0   ...            15           6   \n",
       "2           0           0           0   ...            67          37   \n",
       "3           0           0           0   ...             3           2   \n",
       "4           0           0           0   ...             0           0   \n",
       "\n",
       "    0030-0045   0045-0100   0100-0115   0115-0130   0130-0145   0145-0200      \\\n",
       "0           6           4           2           0           0           0 NaN   \n",
       "1           2           0           0           0           0           0 NaN   \n",
       "2          13           4           0           0           0           0 NaN   \n",
       "3           2           1           0           0           0           0 NaN   \n",
       "4           0           0           0           0           0           0 NaN   \n",
       "\n",
       "    Total  \n",
       "0    9994  \n",
       "1   14212  \n",
       "2   21468  \n",
       "3    4821  \n",
       "4    3899  \n",
       "\n",
       "[5 rows x 102 columns]"
      ]
     },
     "execution_count": 25,
     "metadata": {},
     "output_type": "execute_result"
    }
   ],
   "source": [
    "weekday_entries.head()"
   ]
  },
  {
   "cell_type": "markdown",
   "metadata": {},
   "source": [
    "Once again, we need to convert between the Stations and the postcode districts. Luckily Doogal has provided for us here, with a handy conversion list.\n",
    "\n",
    "https://www.doogal.co.uk/london_stations.php\n"
   ]
  },
  {
   "cell_type": "code",
   "execution_count": 26,
   "metadata": {
    "collapsed": true
   },
   "outputs": [],
   "source": [
    "tube_postcodes = pd.read_csv('/home/alessandro/Documents/placemake/nightlife/London stations.csv')"
   ]
  },
  {
   "cell_type": "code",
   "execution_count": 27,
   "metadata": {
    "collapsed": false
   },
   "outputs": [],
   "source": [
    "tube_postcodes = tube_postcodes.drop(['OS X', 'OS Y', 'Latitude', 'Longitude', 'Zone'], axis=1)"
   ]
  },
  {
   "cell_type": "code",
   "execution_count": 28,
   "metadata": {
    "collapsed": false
   },
   "outputs": [],
   "source": [
    "tube_postcodes['Postcode'] = tube_postcodes['Postcode'].apply(lambda x: x[:-4])"
   ]
  },
  {
   "cell_type": "code",
   "execution_count": 29,
   "metadata": {
    "collapsed": false
   },
   "outputs": [],
   "source": [
    "weekday_entries = weekday_entries.rename(columns = lambda x : str(x)[1:]) # remove an unwanted space in column names"
   ]
  },
  {
   "cell_type": "code",
   "execution_count": 30,
   "metadata": {
    "collapsed": false
   },
   "outputs": [],
   "source": [
    "weekday_entries = weekday_entries.merge(tube_postcodes, on='Station', how='left')"
   ]
  },
  {
   "cell_type": "code",
   "execution_count": 31,
   "metadata": {
    "collapsed": false
   },
   "outputs": [
    {
     "data": {
      "text/html": [
       "<div>\n",
       "<table border=\"1\" class=\"dataframe\">\n",
       "  <thead>\n",
       "    <tr style=\"text-align: right;\">\n",
       "      <th></th>\n",
       "      <th>lc</th>\n",
       "      <th>Station</th>\n",
       "      <th>Date</th>\n",
       "      <th>Note</th>\n",
       "      <th>200-0215</th>\n",
       "      <th>0215-0230</th>\n",
       "      <th>0230-0245</th>\n",
       "      <th>0245-0300</th>\n",
       "      <th>0300-0315</th>\n",
       "      <th>0315-0330</th>\n",
       "      <th>...</th>\n",
       "      <th>0015-0030</th>\n",
       "      <th>0030-0045</th>\n",
       "      <th>0045-0100</th>\n",
       "      <th>0100-0115</th>\n",
       "      <th>0115-0130</th>\n",
       "      <th>0130-0145</th>\n",
       "      <th>0145-0200</th>\n",
       "      <th></th>\n",
       "      <th>Total</th>\n",
       "      <th>Postcode</th>\n",
       "    </tr>\n",
       "  </thead>\n",
       "  <tbody>\n",
       "    <tr>\n",
       "      <th>11</th>\n",
       "      <td>513.0</td>\n",
       "      <td>Bank &amp; Monument</td>\n",
       "      <td>Nov-16</td>\n",
       "      <td>NaN</td>\n",
       "      <td>0</td>\n",
       "      <td>0</td>\n",
       "      <td>0</td>\n",
       "      <td>0</td>\n",
       "      <td>0</td>\n",
       "      <td>0</td>\n",
       "      <td>...</td>\n",
       "      <td>128</td>\n",
       "      <td>41</td>\n",
       "      <td>1</td>\n",
       "      <td>0</td>\n",
       "      <td>2</td>\n",
       "      <td>0</td>\n",
       "      <td>0</td>\n",
       "      <td>NaN</td>\n",
       "      <td>117640</td>\n",
       "      <td>NaN</td>\n",
       "    </tr>\n",
       "    <tr>\n",
       "      <th>40</th>\n",
       "      <td>539.0</td>\n",
       "      <td>Chalfont &amp; Latimer</td>\n",
       "      <td>Nov-15</td>\n",
       "      <td>NaN</td>\n",
       "      <td>0</td>\n",
       "      <td>0</td>\n",
       "      <td>0</td>\n",
       "      <td>0</td>\n",
       "      <td>0</td>\n",
       "      <td>0</td>\n",
       "      <td>...</td>\n",
       "      <td>0</td>\n",
       "      <td>0</td>\n",
       "      <td>0</td>\n",
       "      <td>0</td>\n",
       "      <td>0</td>\n",
       "      <td>0</td>\n",
       "      <td>0</td>\n",
       "      <td>NaN</td>\n",
       "      <td>2543</td>\n",
       "      <td>NaN</td>\n",
       "    </tr>\n",
       "    <tr>\n",
       "      <th>62</th>\n",
       "      <td>562.0</td>\n",
       "      <td>Earl's Court</td>\n",
       "      <td>Nov-16</td>\n",
       "      <td>NaN</td>\n",
       "      <td>0</td>\n",
       "      <td>0</td>\n",
       "      <td>0</td>\n",
       "      <td>0</td>\n",
       "      <td>0</td>\n",
       "      <td>0</td>\n",
       "      <td>...</td>\n",
       "      <td>49</td>\n",
       "      <td>21</td>\n",
       "      <td>8</td>\n",
       "      <td>2</td>\n",
       "      <td>0</td>\n",
       "      <td>0</td>\n",
       "      <td>0</td>\n",
       "      <td>NaN</td>\n",
       "      <td>30499</td>\n",
       "      <td>NaN</td>\n",
       "    </tr>\n",
       "    <tr>\n",
       "      <th>69</th>\n",
       "      <td>774.0</td>\n",
       "      <td>Edgware Road (Bak)</td>\n",
       "      <td>Nov-16</td>\n",
       "      <td>NaN</td>\n",
       "      <td>0</td>\n",
       "      <td>0</td>\n",
       "      <td>0</td>\n",
       "      <td>0</td>\n",
       "      <td>0</td>\n",
       "      <td>0</td>\n",
       "      <td>...</td>\n",
       "      <td>5</td>\n",
       "      <td>1</td>\n",
       "      <td>0</td>\n",
       "      <td>0</td>\n",
       "      <td>0</td>\n",
       "      <td>0</td>\n",
       "      <td>0</td>\n",
       "      <td>NaN</td>\n",
       "      <td>8014</td>\n",
       "      <td>NaN</td>\n",
       "    </tr>\n",
       "    <tr>\n",
       "      <th>70</th>\n",
       "      <td>569.0</td>\n",
       "      <td>Edgware Road (Cir)</td>\n",
       "      <td>Nov-16</td>\n",
       "      <td>NaN</td>\n",
       "      <td>0</td>\n",
       "      <td>0</td>\n",
       "      <td>0</td>\n",
       "      <td>0</td>\n",
       "      <td>0</td>\n",
       "      <td>0</td>\n",
       "      <td>...</td>\n",
       "      <td>11</td>\n",
       "      <td>3</td>\n",
       "      <td>0</td>\n",
       "      <td>0</td>\n",
       "      <td>0</td>\n",
       "      <td>0</td>\n",
       "      <td>0</td>\n",
       "      <td>NaN</td>\n",
       "      <td>11643</td>\n",
       "      <td>NaN</td>\n",
       "    </tr>\n",
       "  </tbody>\n",
       "</table>\n",
       "<p>5 rows × 103 columns</p>\n",
       "</div>"
      ],
      "text/plain": [
       "       lc             Station    Date  Note  200-0215  0215-0230  0230-0245  \\\n",
       "11  513.0     Bank & Monument  Nov-16   NaN         0          0          0   \n",
       "40  539.0  Chalfont & Latimer  Nov-15   NaN         0          0          0   \n",
       "62  562.0        Earl's Court  Nov-16   NaN         0          0          0   \n",
       "69  774.0  Edgware Road (Bak)  Nov-16   NaN         0          0          0   \n",
       "70  569.0  Edgware Road (Cir)  Nov-16   NaN         0          0          0   \n",
       "\n",
       "    0245-0300  0300-0315  0315-0330    ...     0015-0030  0030-0045  \\\n",
       "11          0          0          0    ...           128         41   \n",
       "40          0          0          0    ...             0          0   \n",
       "62          0          0          0    ...            49         21   \n",
       "69          0          0          0    ...             5          1   \n",
       "70          0          0          0    ...            11          3   \n",
       "\n",
       "    0045-0100  0100-0115  0115-0130  0130-0145  0145-0200       Total  \\\n",
       "11          1          0          2          0          0 NaN  117640   \n",
       "40          0          0          0          0          0 NaN    2543   \n",
       "62          8          2          0          0          0 NaN   30499   \n",
       "69          0          0          0          0          0 NaN    8014   \n",
       "70          0          0          0          0          0 NaN   11643   \n",
       "\n",
       "    Postcode  \n",
       "11       NaN  \n",
       "40       NaN  \n",
       "62       NaN  \n",
       "69       NaN  \n",
       "70       NaN  \n",
       "\n",
       "[5 rows x 103 columns]"
      ]
     },
     "execution_count": 31,
     "metadata": {},
     "output_type": "execute_result"
    }
   ],
   "source": [
    "weekday_entries[weekday_entries['Postcode'].isnull()].head()"
   ]
  },
  {
   "cell_type": "markdown",
   "metadata": {},
   "source": [
    "Didn't quite work. Need to clean up the station names on TfL's side."
   ]
  },
  {
   "cell_type": "code",
   "execution_count": 32,
   "metadata": {
    "collapsed": false
   },
   "outputs": [],
   "source": [
    "import re\n",
    "\n",
    "weekday_entries = pd.read_csv('/home/alessandro/Documents/placemake/nightlife/counts/En16week.csv', skiprows=6)\n",
    "weekday_entries = weekday_entries.rename(columns = lambda x : str(x)[1:]) # remove an unwanted space in column names\n",
    "weekday_entries.Station = weekday_entries.Station.apply(lambda x: x.replace(\"&\", \"and\"))\n",
    "weekday_entries.Station = weekday_entries.Station.apply(lambda x: x.replace(\"'\", \"\"))\n",
    "weekday_entries.Station = weekday_entries.Station.apply(lambda x: re.sub(\" [\\(\\[].*?[\\)\\]]\", \"\", x))\n",
    "weekday_entries.Station = weekday_entries.Station.apply(lambda x: x.replace(\" and Monument\", \"\"))\n",
    "weekday_entries.Station = weekday_entries.Station.apply(lambda x: x.replace(\"123\", \"1 2 3\"))\n",
    "\n",
    "tube_postcodes.Station = tube_postcodes.Station.apply(lambda x: x.replace(\"&\", \"and\"))\n",
    "tube_postcodes.Station = tube_postcodes.Station.apply(lambda x: x.replace(\"'\", \"\"))\n",
    "tube_postcodes.Station = tube_postcodes.Station.apply(lambda x: re.sub(\" [\\(\\[].*?[\\)\\]]\", \"\", x))"
   ]
  },
  {
   "cell_type": "code",
   "execution_count": 33,
   "metadata": {
    "collapsed": false
   },
   "outputs": [],
   "source": [
    "weekday_entries = weekday_entries.merge(tube_postcodes, on='Station', how='left')"
   ]
  },
  {
   "cell_type": "code",
   "execution_count": 34,
   "metadata": {
    "collapsed": false
   },
   "outputs": [
    {
     "data": {
      "text/html": [
       "<div>\n",
       "<table border=\"1\" class=\"dataframe\">\n",
       "  <thead>\n",
       "    <tr style=\"text-align: right;\">\n",
       "      <th></th>\n",
       "      <th>lc</th>\n",
       "      <th>Station</th>\n",
       "      <th>Date</th>\n",
       "      <th>Note</th>\n",
       "      <th>200-0215</th>\n",
       "      <th>0215-0230</th>\n",
       "      <th>0230-0245</th>\n",
       "      <th>0245-0300</th>\n",
       "      <th>0300-0315</th>\n",
       "      <th>0315-0330</th>\n",
       "      <th>...</th>\n",
       "      <th>0015-0030</th>\n",
       "      <th>0030-0045</th>\n",
       "      <th>0045-0100</th>\n",
       "      <th>0100-0115</th>\n",
       "      <th>0115-0130</th>\n",
       "      <th>0130-0145</th>\n",
       "      <th>0145-0200</th>\n",
       "      <th></th>\n",
       "      <th>Total</th>\n",
       "      <th>Postcode</th>\n",
       "    </tr>\n",
       "  </thead>\n",
       "  <tbody>\n",
       "    <tr>\n",
       "      <th>272</th>\n",
       "      <td>NaN</td>\n",
       "      <td>Total</td>\n",
       "      <td>NaN</td>\n",
       "      <td>NaN</td>\n",
       "      <td>0</td>\n",
       "      <td>0</td>\n",
       "      <td>0</td>\n",
       "      <td>0</td>\n",
       "      <td>0</td>\n",
       "      <td>0</td>\n",
       "      <td>...</td>\n",
       "      <td>5662</td>\n",
       "      <td>2235</td>\n",
       "      <td>440</td>\n",
       "      <td>109</td>\n",
       "      <td>14</td>\n",
       "      <td>5</td>\n",
       "      <td>0</td>\n",
       "      <td>NaN</td>\n",
       "      <td>4731801</td>\n",
       "      <td>NaN</td>\n",
       "    </tr>\n",
       "  </tbody>\n",
       "</table>\n",
       "<p>1 rows × 103 columns</p>\n",
       "</div>"
      ],
      "text/plain": [
       "     lc Station Date  Note  200-0215  0215-0230  0230-0245  0245-0300  \\\n",
       "272 NaN   Total  NaN   NaN         0          0          0          0   \n",
       "\n",
       "     0300-0315  0315-0330    ...     0015-0030  0030-0045  0045-0100  \\\n",
       "272          0          0    ...          5662       2235        440   \n",
       "\n",
       "     0100-0115  0115-0130  0130-0145  0145-0200        Total  Postcode  \n",
       "272        109         14          5          0 NaN  4731801       NaN  \n",
       "\n",
       "[1 rows x 103 columns]"
      ]
     },
     "execution_count": 34,
     "metadata": {},
     "output_type": "execute_result"
    }
   ],
   "source": [
    "weekday_entries[weekday_entries['Postcode'].isnull()].head()"
   ]
  },
  {
   "cell_type": "markdown",
   "metadata": {},
   "source": [
    "In fact, since we need to repeat this multiple times, let's put into a function, and drop all irrelevant data while we're at it:"
   ]
  },
  {
   "cell_type": "code",
   "execution_count": 35,
   "metadata": {
    "collapsed": true
   },
   "outputs": [],
   "source": [
    "def tube(filepath, tube2pc):\n",
    "    w = pd.read_csv(filepath, skiprows=6)\n",
    "    w = w.rename(columns = lambda x : str(x)[1:]) # remove an unwanted space in column names\n",
    "    if w['Station'][0] != 'Acton Town':\n",
    "        w = w.drop(0)\n",
    "    w.Station = w.Station.apply(lambda x: x.replace(\"&\", \"and\"))\n",
    "    w.Station = w.Station.apply(lambda x: x.replace(\"'\", \"\"))\n",
    "    w.Station = w.Station.apply(lambda x: re.sub(\" [\\(\\[].*?[\\)\\]]\", \"\", x))\n",
    "    w.Station = w.Station.apply(lambda x: x.replace(\" and Monument\", \"\"))\n",
    "    w.Station = w.Station.apply(lambda x: x.replace(\"123\", \"1 2 3\"))\n",
    "\n",
    "    tube2pc.Station = tube2pc.Station.apply(lambda x: x.replace(\"&\", \"and\"))\n",
    "    tube2pc.Station = tube2pc.Station.apply(lambda x: x.replace(\"'\", \"\"))\n",
    "    tube2pc.Station = tube2pc.Station.apply(lambda x: re.sub(\" [\\(\\[].*?[\\)\\]]\", \"\", x))\n",
    "    \n",
    "    w = w.merge(tube_postcodes, on='Station', how='left')\n",
    "    \n",
    "    # Drop everything except the 9pm onwards and postcode data\n",
    "    w = w[w.columns[80:]]\n",
    "    w = w.drop(['', 'Total'], axis=1)\n",
    "    \n",
    "    # Delete the last row as reports totals\n",
    "    w = w.iloc[:-1,:]\n",
    "    \n",
    "    return w"
   ]
  },
  {
   "cell_type": "code",
   "execution_count": 36,
   "metadata": {
    "collapsed": false
   },
   "outputs": [],
   "source": [
    "weekday_entries = tube('/home/alessandro/Documents/placemake/nightlife/counts/En16week.csv', tube_postcodes)\n",
    "sat_entries = tube('/home/alessandro/Documents/placemake/nightlife/counts/En16sat.csv', tube_postcodes)\n",
    "sun_entries = tube('/home/alessandro/Documents/placemake/nightlife/counts/En16sun.csv', tube_postcodes)\n",
    "weekday_exits = tube('/home/alessandro/Documents/placemake/nightlife/counts/Ex16week.csv', tube_postcodes)\n",
    "sat_exits = tube('/home/alessandro/Documents/placemake/nightlife/counts/Ex16sat.csv', tube_postcodes)\n",
    "sun_exits = tube('/home/alessandro/Documents/placemake/nightlife/counts/Ex16sun.csv', tube_postcodes)\n"
   ]
  },
  {
   "cell_type": "markdown",
   "metadata": {},
   "source": [
    "Now we can summarise the data by total entry-exits during the week, saturdays, and sundays, as well as giving a lateness score (0-20): the average entry/exit time"
   ]
  },
  {
   "cell_type": "code",
   "execution_count": 37,
   "metadata": {
    "collapsed": false
   },
   "outputs": [],
   "source": [
    "def tube_summary(entry, exit):\n",
    "    df = pd.DataFrame(columns=['District', 'Total', 'Lateness'])\n",
    "    df['District'] = entry.Postcode\n",
    "    tube_week = entry.iloc[:,:-1] + exit.iloc[:,:-1]\n",
    "    df['Lateness'] = np.sum(tube_week.divide(tube_week.sum(axis=1), axis=0)*np.tile(range(0,20),[len(tube_week),1]),axis=1)\n",
    "    df['Total'] = tube_week.sum(axis=1)\n",
    "    return df"
   ]
  },
  {
   "cell_type": "code",
   "execution_count": 38,
   "metadata": {
    "collapsed": false
   },
   "outputs": [],
   "source": [
    "tube_week = tube_summary(weekday_entries, weekday_exits)\n",
    "tube_sat = tube_summary(sat_entries, sat_exits)\n",
    "tube_sun = tube_summary(sun_entries, sun_exits)"
   ]
  },
  {
   "cell_type": "markdown",
   "metadata": {},
   "source": [
    "These useful numbers can now be plugged into the nightlife index matrix - nlix - and ordered by area."
   ]
  },
  {
   "cell_type": "code",
   "execution_count": 39,
   "metadata": {
    "collapsed": false
   },
   "outputs": [],
   "source": [
    "tube_week = tube_week.groupby('District').agg({'Lateness': 'mean', 'Total':'sum'})\n",
    "tube_week = tube_week.rename(columns = lambda x : x+'_week')\n",
    "nlix = nlix.join(tube_week, how='left')\n",
    "\n",
    "tube_sat = tube_sat.groupby('District').agg({'Lateness': 'mean', 'Total':'sum'})\n",
    "tube_sat = tube_sat.rename(columns = lambda x : x+'_sat')\n",
    "nlix = nlix.join(tube_sat, how='left')\n",
    "\n",
    "tube_sun = tube_sun.groupby('District').agg({'Lateness': 'mean', 'Total':'sum'})\n",
    "tube_sun = tube_sun.rename(columns = lambda x : x+'_sun')\n",
    "nlix = nlix.join(tube_sun, how='left')"
   ]
  },
  {
   "cell_type": "code",
   "execution_count": 40,
   "metadata": {
    "collapsed": false
   },
   "outputs": [
    {
     "data": {
      "text/html": [
       "<div>\n",
       "<table border=\"1\" class=\"dataframe\">\n",
       "  <thead>\n",
       "    <tr style=\"text-align: right;\">\n",
       "      <th></th>\n",
       "      <th>Premises</th>\n",
       "      <th>Certificates</th>\n",
       "      <th>Total_week</th>\n",
       "      <th>Lateness_week</th>\n",
       "      <th>Total_sat</th>\n",
       "      <th>Lateness_sat</th>\n",
       "      <th>Total_sun</th>\n",
       "      <th>Lateness_sun</th>\n",
       "    </tr>\n",
       "    <tr>\n",
       "      <th>District</th>\n",
       "      <th></th>\n",
       "      <th></th>\n",
       "      <th></th>\n",
       "      <th></th>\n",
       "      <th></th>\n",
       "      <th></th>\n",
       "      <th></th>\n",
       "      <th></th>\n",
       "    </tr>\n",
       "  </thead>\n",
       "  <tbody>\n",
       "    <tr>\n",
       "      <th>WC2A</th>\n",
       "      <td>NaN</td>\n",
       "      <td>NaN</td>\n",
       "      <td>NaN</td>\n",
       "      <td>NaN</td>\n",
       "      <td>NaN</td>\n",
       "      <td>NaN</td>\n",
       "      <td>NaN</td>\n",
       "      <td>NaN</td>\n",
       "    </tr>\n",
       "    <tr>\n",
       "      <th>WC2B</th>\n",
       "      <td>NaN</td>\n",
       "      <td>NaN</td>\n",
       "      <td>8987.0</td>\n",
       "      <td>5.102926</td>\n",
       "      <td>10336.0</td>\n",
       "      <td>7.316273</td>\n",
       "      <td>3378.0</td>\n",
       "      <td>5.119597</td>\n",
       "    </tr>\n",
       "    <tr>\n",
       "      <th>WC2E</th>\n",
       "      <td>NaN</td>\n",
       "      <td>NaN</td>\n",
       "      <td>6485.0</td>\n",
       "      <td>5.639784</td>\n",
       "      <td>9046.0</td>\n",
       "      <td>5.648906</td>\n",
       "      <td>3005.0</td>\n",
       "      <td>4.252246</td>\n",
       "    </tr>\n",
       "    <tr>\n",
       "      <th>WC2H</th>\n",
       "      <td>NaN</td>\n",
       "      <td>NaN</td>\n",
       "      <td>20001.0</td>\n",
       "      <td>5.681166</td>\n",
       "      <td>33278.0</td>\n",
       "      <td>6.226246</td>\n",
       "      <td>11054.0</td>\n",
       "      <td>4.365388</td>\n",
       "    </tr>\n",
       "    <tr>\n",
       "      <th>WC2R</th>\n",
       "      <td>NaN</td>\n",
       "      <td>NaN</td>\n",
       "      <td>1770.0</td>\n",
       "      <td>4.948588</td>\n",
       "      <td>1670.0</td>\n",
       "      <td>6.097006</td>\n",
       "      <td>451.0</td>\n",
       "      <td>4.671840</td>\n",
       "    </tr>\n",
       "    <tr>\n",
       "      <th>WD23</th>\n",
       "      <td>NaN</td>\n",
       "      <td>NaN</td>\n",
       "      <td>NaN</td>\n",
       "      <td>NaN</td>\n",
       "      <td>NaN</td>\n",
       "      <td>NaN</td>\n",
       "      <td>NaN</td>\n",
       "      <td>NaN</td>\n",
       "    </tr>\n",
       "    <tr>\n",
       "      <th>WD3</th>\n",
       "      <td>NaN</td>\n",
       "      <td>NaN</td>\n",
       "      <td>1024.0</td>\n",
       "      <td>6.079515</td>\n",
       "      <td>934.0</td>\n",
       "      <td>7.170662</td>\n",
       "      <td>353.0</td>\n",
       "      <td>5.463242</td>\n",
       "    </tr>\n",
       "    <tr>\n",
       "      <th>WD6</th>\n",
       "      <td>NaN</td>\n",
       "      <td>NaN</td>\n",
       "      <td>NaN</td>\n",
       "      <td>NaN</td>\n",
       "      <td>NaN</td>\n",
       "      <td>NaN</td>\n",
       "      <td>NaN</td>\n",
       "      <td>NaN</td>\n",
       "    </tr>\n",
       "  </tbody>\n",
       "</table>\n",
       "</div>"
      ],
      "text/plain": [
       "         Premises Certificates  Total_week  Lateness_week  Total_sat  \\\n",
       "District                                                               \n",
       "WC2A          NaN          NaN         NaN            NaN        NaN   \n",
       "WC2B          NaN          NaN      8987.0       5.102926    10336.0   \n",
       "WC2E          NaN          NaN      6485.0       5.639784     9046.0   \n",
       "WC2H          NaN          NaN     20001.0       5.681166    33278.0   \n",
       "WC2R          NaN          NaN      1770.0       4.948588     1670.0   \n",
       "WD23          NaN          NaN         NaN            NaN        NaN   \n",
       "WD3           NaN          NaN      1024.0       6.079515      934.0   \n",
       "WD6           NaN          NaN         NaN            NaN        NaN   \n",
       "\n",
       "          Lateness_sat  Total_sun  Lateness_sun  \n",
       "District                                         \n",
       "WC2A               NaN        NaN           NaN  \n",
       "WC2B          7.316273     3378.0      5.119597  \n",
       "WC2E          5.648906     3005.0      4.252246  \n",
       "WC2H          6.226246    11054.0      4.365388  \n",
       "WC2R          6.097006      451.0      4.671840  \n",
       "WD23               NaN        NaN           NaN  \n",
       "WD3           7.170662      353.0      5.463242  \n",
       "WD6                NaN        NaN           NaN  "
      ]
     },
     "execution_count": 40,
     "metadata": {},
     "output_type": "execute_result"
    }
   ],
   "source": [
    "nlix.tail(8)"
   ]
  },
  {
   "cell_type": "markdown",
   "metadata": {},
   "source": [
    "## Hotness by restaurants"
   ]
  },
  {
   "cell_type": "markdown",
   "metadata": {},
   "source": [
    "Another way to measure the nightlife in the area is to look at restaurants in the area. One way of getting a list of restaurants in the area is by using the OpenMaps API.\n",
    "\n",
    "https://python-overpy.readthedocs.io/en/latest/index.html"
   ]
  },
  {
   "cell_type": "code",
   "execution_count": 41,
   "metadata": {
    "collapsed": false
   },
   "outputs": [],
   "source": [
    "import overpy\n",
    "\n",
    "api = overpy.Overpass()\n",
    "result = api.query(\"\"\"<osm-script>\n",
    "    <query type=\"node\">\n",
    "      <has-kv k=\"amenity\" v=\"restaurant\"/>\n",
    "      <bbox-query s=\"51.27\" n=\"51.687\" w=\"-0.488\" e=\"0.235\"/>\n",
    "    </query>\n",
    "    <print/>\n",
    "</osm-script>\"\"\")"
   ]
  },
  {
   "cell_type": "code",
   "execution_count": 42,
   "metadata": {
    "collapsed": false
   },
   "outputs": [
    {
     "data": {
      "text/plain": [
       "3397"
      ]
     },
     "execution_count": 42,
     "metadata": {},
     "output_type": "execute_result"
    }
   ],
   "source": [
    "len(result.nodes)"
   ]
  },
  {
   "cell_type": "code",
   "execution_count": 43,
   "metadata": {
    "collapsed": true
   },
   "outputs": [],
   "source": [
    "node = result.nodes[2]"
   ]
  },
  {
   "cell_type": "code",
   "execution_count": 44,
   "metadata": {
    "collapsed": false
   },
   "outputs": [
    {
     "data": {
      "text/plain": [
       "<overpy.Node id=26544484 lat=51.3980144 lon=-0.1722345>"
      ]
     },
     "execution_count": 44,
     "metadata": {},
     "output_type": "execute_result"
    }
   ],
   "source": [
    "node"
   ]
  },
  {
   "cell_type": "code",
   "execution_count": 45,
   "metadata": {
    "collapsed": false
   },
   "outputs": [
    {
     "data": {
      "text/plain": [
       "{u'addr:housename': u'The Crown Inn',\n",
       " u'addr:housenumber': u'407',\n",
       " u'addr:postcode': u'CR4 4BG',\n",
       " u'addr:street': u'London Road',\n",
       " u'amenity': u'restaurant',\n",
       " u'cuisine': u'indian',\n",
       " u'fhrs:id': u'200005',\n",
       " u'name': u'Casuarina Tree',\n",
       " u'old_name': u'The Crown Inn',\n",
       " u'toilets': u'yes',\n",
       " u'toilets:access': u'customers'}"
      ]
     },
     "execution_count": 45,
     "metadata": {},
     "output_type": "execute_result"
    }
   ],
   "source": [
    "node.tags"
   ]
  },
  {
   "cell_type": "markdown",
   "metadata": {},
   "source": [
    "One issue is that although here we have the postcode under the tag: \"addr:postcode\", this varies significantly (sometimes not present at all, other times with a different name). Could address this issue by instead relying on the latitude and longitude and converting these back into a postcode, i.e. via:\n",
    "\n",
    "http://postcodes.io/docs\n"
   ]
  },
  {
   "cell_type": "code",
   "execution_count": 46,
   "metadata": {
    "collapsed": false
   },
   "outputs": [],
   "source": [
    "import requests\n",
    "\n",
    "r = requests.get(\"https://api.postcodes.io/postcodes?lon=\"+str(node.lon)+\"&lat=\"+str(node.lat))"
   ]
  },
  {
   "cell_type": "code",
   "execution_count": 47,
   "metadata": {
    "collapsed": false
   },
   "outputs": [
    {
     "data": {
      "text/plain": [
       "'CR4'"
      ]
     },
     "execution_count": 47,
     "metadata": {},
     "output_type": "execute_result"
    }
   ],
   "source": [
    "r.content[37:40]"
   ]
  },
  {
   "cell_type": "markdown",
   "metadata": {},
   "source": [
    "The following code took around 5 mins for 500 results, so a bit slow for my tastes:\n",
    "\n",
    "```\n",
    "nlix['n_restaurants'] = 0 \n",
    "\n",
    "for node in result.nodes:\n",
    "    r = requests.get(\"https://api.postcodes.io/postcodes?lon=\"+str(node.lon)+\"&lat=\"+str(node.lat))\n",
    "    postcode = r.content[37:40]\n",
    "    if postcode in nlix.index:\n",
    "        nlix.loc[postcode,'n_restaurants'] += 1\n",
    "    r.close()\n",
    "```"
   ]
  },
  {
   "cell_type": "markdown",
   "metadata": {},
   "source": [
    "Will instead opt for a quicker fix, using the ones that have post-codes available to estimate the density."
   ]
  },
  {
   "cell_type": "code",
   "execution_count": 48,
   "metadata": {
    "collapsed": false
   },
   "outputs": [],
   "source": [
    "nlix['n_rest_osm'] = 0"
   ]
  },
  {
   "cell_type": "code",
   "execution_count": 49,
   "metadata": {
    "collapsed": false
   },
   "outputs": [],
   "source": [
    "for node in result.nodes:\n",
    "    if 'addr:postcode' in node.tags.keys():\n",
    "        if node.tags['addr:postcode'][:-4] in nlix.index:\n",
    "            nlix.loc[node.tags['addr:postcode'][:-4], 'n_rest_osm'] += 1\n",
    "    elif 'postal_code' in node.tags.keys():\n",
    "        if node.tags['postal_code'][:-4] in nlix.index:\n",
    "            nlix.loc[node.tags['postal_code'][:-4], 'n_rest_osm'] += 1"
   ]
  },
  {
   "cell_type": "code",
   "execution_count": 50,
   "metadata": {
    "collapsed": false
   },
   "outputs": [
    {
     "data": {
      "text/plain": [
       "1215"
      ]
     },
     "execution_count": 50,
     "metadata": {},
     "output_type": "execute_result"
    }
   ],
   "source": [
    "nlix.n_rest_osm.sum()"
   ]
  },
  {
   "cell_type": "markdown",
   "metadata": {},
   "source": [
    "This is only about 1/5 of the total number of restaurants identified. Even then, the restaurants identified seem too few: I would expect London to have around 30,000"
   ]
  },
  {
   "cell_type": "code",
   "execution_count": 51,
   "metadata": {
    "collapsed": false
   },
   "outputs": [
    {
     "data": {
      "text/html": [
       "<div>\n",
       "<table border=\"1\" class=\"dataframe\">\n",
       "  <thead>\n",
       "    <tr style=\"text-align: right;\">\n",
       "      <th></th>\n",
       "      <th>Premises</th>\n",
       "      <th>Certificates</th>\n",
       "      <th>Total_week</th>\n",
       "      <th>Lateness_week</th>\n",
       "      <th>Total_sat</th>\n",
       "      <th>Lateness_sat</th>\n",
       "      <th>Total_sun</th>\n",
       "      <th>Lateness_sun</th>\n",
       "      <th>n_rest_osm</th>\n",
       "    </tr>\n",
       "    <tr>\n",
       "      <th>District</th>\n",
       "      <th></th>\n",
       "      <th></th>\n",
       "      <th></th>\n",
       "      <th></th>\n",
       "      <th></th>\n",
       "      <th></th>\n",
       "      <th></th>\n",
       "      <th></th>\n",
       "      <th></th>\n",
       "    </tr>\n",
       "  </thead>\n",
       "  <tbody>\n",
       "    <tr>\n",
       "      <th>WC2H</th>\n",
       "      <td>NaN</td>\n",
       "      <td>NaN</td>\n",
       "      <td>20001.0</td>\n",
       "      <td>5.681166</td>\n",
       "      <td>33278.0</td>\n",
       "      <td>6.226246</td>\n",
       "      <td>11054.0</td>\n",
       "      <td>4.365388</td>\n",
       "      <td>21</td>\n",
       "    </tr>\n",
       "    <tr>\n",
       "      <th>WC2R</th>\n",
       "      <td>NaN</td>\n",
       "      <td>NaN</td>\n",
       "      <td>1770.0</td>\n",
       "      <td>4.948588</td>\n",
       "      <td>1670.0</td>\n",
       "      <td>6.097006</td>\n",
       "      <td>451.0</td>\n",
       "      <td>4.671840</td>\n",
       "      <td>5</td>\n",
       "    </tr>\n",
       "    <tr>\n",
       "      <th>WD23</th>\n",
       "      <td>NaN</td>\n",
       "      <td>NaN</td>\n",
       "      <td>NaN</td>\n",
       "      <td>NaN</td>\n",
       "      <td>NaN</td>\n",
       "      <td>NaN</td>\n",
       "      <td>NaN</td>\n",
       "      <td>NaN</td>\n",
       "      <td>0</td>\n",
       "    </tr>\n",
       "    <tr>\n",
       "      <th>WD3</th>\n",
       "      <td>NaN</td>\n",
       "      <td>NaN</td>\n",
       "      <td>1024.0</td>\n",
       "      <td>6.079515</td>\n",
       "      <td>934.0</td>\n",
       "      <td>7.170662</td>\n",
       "      <td>353.0</td>\n",
       "      <td>5.463242</td>\n",
       "      <td>0</td>\n",
       "    </tr>\n",
       "    <tr>\n",
       "      <th>WD6</th>\n",
       "      <td>NaN</td>\n",
       "      <td>NaN</td>\n",
       "      <td>NaN</td>\n",
       "      <td>NaN</td>\n",
       "      <td>NaN</td>\n",
       "      <td>NaN</td>\n",
       "      <td>NaN</td>\n",
       "      <td>NaN</td>\n",
       "      <td>0</td>\n",
       "    </tr>\n",
       "  </tbody>\n",
       "</table>\n",
       "</div>"
      ],
      "text/plain": [
       "         Premises Certificates  Total_week  Lateness_week  Total_sat  \\\n",
       "District                                                               \n",
       "WC2H          NaN          NaN     20001.0       5.681166    33278.0   \n",
       "WC2R          NaN          NaN      1770.0       4.948588     1670.0   \n",
       "WD23          NaN          NaN         NaN            NaN        NaN   \n",
       "WD3           NaN          NaN      1024.0       6.079515      934.0   \n",
       "WD6           NaN          NaN         NaN            NaN        NaN   \n",
       "\n",
       "          Lateness_sat  Total_sun  Lateness_sun  n_rest_osm  \n",
       "District                                                     \n",
       "WC2H          6.226246    11054.0      4.365388          21  \n",
       "WC2R          6.097006      451.0      4.671840           5  \n",
       "WD23               NaN        NaN           NaN           0  \n",
       "WD3           7.170662      353.0      5.463242           0  \n",
       "WD6                NaN        NaN           NaN           0  "
      ]
     },
     "execution_count": 51,
     "metadata": {},
     "output_type": "execute_result"
    }
   ],
   "source": [
    "nlix.tail()"
   ]
  },
  {
   "cell_type": "markdown",
   "metadata": {},
   "source": [
    "### More APIs - Zomato"
   ]
  },
  {
   "cell_type": "markdown",
   "metadata": {},
   "source": [
    "Can try some other APIs such as Zomato, to get the quality as well as an estimate of numbers around each district centroid."
   ]
  },
  {
   "cell_type": "code",
   "execution_count": 52,
   "metadata": {
    "collapsed": true
   },
   "outputs": [],
   "source": [
    "api_keys = pd.read_csv('/home/alessandro/code/personal_api_keys.csv')"
   ]
  },
  {
   "cell_type": "code",
   "execution_count": 53,
   "metadata": {
    "collapsed": false
   },
   "outputs": [
    {
     "data": {
      "text/plain": [
       "District                                        BR3\n",
       "index                                      0.158689\n",
       "lat                                         51.4035\n",
       "long                                     -0.0314918\n",
       "coords            (51.4035087892, -0.0314917635659)\n",
       "radius                                      1066.96\n",
       "LocalAuthority                            E09000006\n",
       "Name: 2, dtype: object"
      ]
     },
     "execution_count": 53,
     "metadata": {},
     "output_type": "execute_result"
    }
   ],
   "source": [
    "pcd.ix[2,:]"
   ]
  },
  {
   "cell_type": "code",
   "execution_count": 54,
   "metadata": {
    "collapsed": false
   },
   "outputs": [],
   "source": [
    "locationUrlFromLatLong = \"https://developers.zomato.com/api/v2.1/geocode?lat=51.4035652709&lon=-0.0313445208231\"\n",
    "header = {\"User-agent\": \"curl/7.43.0\", \"Accept\": \"application/json\", \"user_key\": api_keys['zomato'][0]}\n",
    "\n",
    "response = requests.get(locationUrlFromLatLong, headers=header)"
   ]
  },
  {
   "cell_type": "code",
   "execution_count": 55,
   "metadata": {
    "collapsed": false
   },
   "outputs": [],
   "source": [
    "rr = response.json()"
   ]
  },
  {
   "cell_type": "code",
   "execution_count": 56,
   "metadata": {
    "collapsed": false
   },
   "outputs": [
    {
     "data": {
      "text/plain": [
       "{u'city': u'London',\n",
       " u'nearby_res': [u'6122774',\n",
       "  u'6110729',\n",
       "  u'6117661',\n",
       "  u'6115752',\n",
       "  u'6117297',\n",
       "  u'6102645',\n",
       "  u'6116923',\n",
       "  u'6111241',\n",
       "  u'6111392'],\n",
       " u'nightlife_index': u'2.00',\n",
       " u'nightlife_res': u'10',\n",
       " u'popularity': u'3.39',\n",
       " u'popularity_res': u'100',\n",
       " u'subzone': u'Beckenham',\n",
       " u'subzone_id': 61499,\n",
       " u'top_cuisines': [u'Cafe', u'Curry', u'British', u'Italian', u'Indian']}"
      ]
     },
     "execution_count": 56,
     "metadata": {},
     "output_type": "execute_result"
    }
   ],
   "source": [
    "rr['popularity']"
   ]
  },
  {
   "cell_type": "code",
   "execution_count": 57,
   "metadata": {
    "collapsed": false
   },
   "outputs": [],
   "source": [
    "nlix['nl_ix_zomato'] = 0.0\n",
    "nlix['nl_res_zomato'] = 0.0\n",
    "nlix['pop_ix_zomato'] = 0.0\n",
    "nlix['pop_res_zomato'] = 0.0\n",
    "\n",
    "header = {\"User-agent\": \"curl/7.43.0\", \"Accept\": \"application/json\", \"user_key\": api_keys['zomato'][0]}\n",
    "for i in range(0, len(pcd)):\n",
    "    locationUrlFromLatLong = \"https://developers.zomato.com/api/v2.1/geocode?lat=\"+str(pcd.lat[i])+\"&lon=\"+str(pcd.long[i])\n",
    "    response = requests.get(locationUrlFromLatLong, headers=header)\n",
    "    jresp = response.json()\n",
    "    nlix.ix[i,'nl_ix_zomato'] = float(jresp['popularity']['nightlife_index'])\n",
    "    nlix.ix[i,'nl_res_zomato'] = float(jresp['popularity']['nightlife_res'])\n",
    "    nlix.ix[i,'pop_ix_zomato'] = float(jresp['popularity']['popularity'])\n",
    "    nlix.ix[i,'pop_res_zomato'] = float(jresp['popularity']['popularity_res'])\n",
    "    "
   ]
  },
  {
   "cell_type": "code",
   "execution_count": 58,
   "metadata": {
    "collapsed": false
   },
   "outputs": [
    {
     "data": {
      "text/html": [
       "<div>\n",
       "<table border=\"1\" class=\"dataframe\">\n",
       "  <thead>\n",
       "    <tr style=\"text-align: right;\">\n",
       "      <th></th>\n",
       "      <th>Premises</th>\n",
       "      <th>Certificates</th>\n",
       "      <th>Total_week</th>\n",
       "      <th>Lateness_week</th>\n",
       "      <th>Total_sat</th>\n",
       "      <th>Lateness_sat</th>\n",
       "      <th>Total_sun</th>\n",
       "      <th>Lateness_sun</th>\n",
       "      <th>n_rest_osm</th>\n",
       "      <th>nl_ix_zomato</th>\n",
       "      <th>nl_res_zomato</th>\n",
       "      <th>pop_ix_zomato</th>\n",
       "      <th>pop_res_zomato</th>\n",
       "    </tr>\n",
       "    <tr>\n",
       "      <th>District</th>\n",
       "      <th></th>\n",
       "      <th></th>\n",
       "      <th></th>\n",
       "      <th></th>\n",
       "      <th></th>\n",
       "      <th></th>\n",
       "      <th></th>\n",
       "      <th></th>\n",
       "      <th></th>\n",
       "      <th></th>\n",
       "      <th></th>\n",
       "      <th></th>\n",
       "      <th></th>\n",
       "    </tr>\n",
       "  </thead>\n",
       "  <tbody>\n",
       "    <tr>\n",
       "      <th>WC2H</th>\n",
       "      <td>NaN</td>\n",
       "      <td>NaN</td>\n",
       "      <td>20001.0</td>\n",
       "      <td>5.681166</td>\n",
       "      <td>33278.0</td>\n",
       "      <td>6.226246</td>\n",
       "      <td>11054.0</td>\n",
       "      <td>4.365388</td>\n",
       "      <td>21</td>\n",
       "      <td>5.00</td>\n",
       "      <td>10.0</td>\n",
       "      <td>5.00</td>\n",
       "      <td>100.0</td>\n",
       "    </tr>\n",
       "    <tr>\n",
       "      <th>WC2R</th>\n",
       "      <td>NaN</td>\n",
       "      <td>NaN</td>\n",
       "      <td>1770.0</td>\n",
       "      <td>4.948588</td>\n",
       "      <td>1670.0</td>\n",
       "      <td>6.097006</td>\n",
       "      <td>451.0</td>\n",
       "      <td>4.671840</td>\n",
       "      <td>5</td>\n",
       "      <td>5.00</td>\n",
       "      <td>10.0</td>\n",
       "      <td>5.00</td>\n",
       "      <td>100.0</td>\n",
       "    </tr>\n",
       "    <tr>\n",
       "      <th>WD23</th>\n",
       "      <td>NaN</td>\n",
       "      <td>NaN</td>\n",
       "      <td>NaN</td>\n",
       "      <td>NaN</td>\n",
       "      <td>NaN</td>\n",
       "      <td>NaN</td>\n",
       "      <td>NaN</td>\n",
       "      <td>NaN</td>\n",
       "      <td>0</td>\n",
       "      <td>0.76</td>\n",
       "      <td>10.0</td>\n",
       "      <td>1.09</td>\n",
       "      <td>100.0</td>\n",
       "    </tr>\n",
       "    <tr>\n",
       "      <th>WD3</th>\n",
       "      <td>NaN</td>\n",
       "      <td>NaN</td>\n",
       "      <td>1024.0</td>\n",
       "      <td>6.079515</td>\n",
       "      <td>934.0</td>\n",
       "      <td>7.170662</td>\n",
       "      <td>353.0</td>\n",
       "      <td>5.463242</td>\n",
       "      <td>0</td>\n",
       "      <td>0.67</td>\n",
       "      <td>10.0</td>\n",
       "      <td>1.30</td>\n",
       "      <td>100.0</td>\n",
       "    </tr>\n",
       "    <tr>\n",
       "      <th>WD6</th>\n",
       "      <td>NaN</td>\n",
       "      <td>NaN</td>\n",
       "      <td>NaN</td>\n",
       "      <td>NaN</td>\n",
       "      <td>NaN</td>\n",
       "      <td>NaN</td>\n",
       "      <td>NaN</td>\n",
       "      <td>NaN</td>\n",
       "      <td>0</td>\n",
       "      <td>1.88</td>\n",
       "      <td>10.0</td>\n",
       "      <td>2.78</td>\n",
       "      <td>100.0</td>\n",
       "    </tr>\n",
       "  </tbody>\n",
       "</table>\n",
       "</div>"
      ],
      "text/plain": [
       "         Premises Certificates  Total_week  Lateness_week  Total_sat  \\\n",
       "District                                                               \n",
       "WC2H          NaN          NaN     20001.0       5.681166    33278.0   \n",
       "WC2R          NaN          NaN      1770.0       4.948588     1670.0   \n",
       "WD23          NaN          NaN         NaN            NaN        NaN   \n",
       "WD3           NaN          NaN      1024.0       6.079515      934.0   \n",
       "WD6           NaN          NaN         NaN            NaN        NaN   \n",
       "\n",
       "          Lateness_sat  Total_sun  Lateness_sun  n_rest_osm  nl_ix_zomato  \\\n",
       "District                                                                    \n",
       "WC2H          6.226246    11054.0      4.365388          21          5.00   \n",
       "WC2R          6.097006      451.0      4.671840           5          5.00   \n",
       "WD23               NaN        NaN           NaN           0          0.76   \n",
       "WD3           7.170662      353.0      5.463242           0          0.67   \n",
       "WD6                NaN        NaN           NaN           0          1.88   \n",
       "\n",
       "          nl_res_zomato  pop_ix_zomato  pop_res_zomato  \n",
       "District                                                \n",
       "WC2H               10.0           5.00           100.0  \n",
       "WC2R               10.0           5.00           100.0  \n",
       "WD23               10.0           1.09           100.0  \n",
       "WD3                10.0           1.30           100.0  \n",
       "WD6                10.0           2.78           100.0  "
      ]
     },
     "execution_count": 58,
     "metadata": {},
     "output_type": "execute_result"
    }
   ],
   "source": [
    "nlix.tail()"
   ]
  },
  {
   "cell_type": "code",
   "execution_count": 59,
   "metadata": {
    "collapsed": true
   },
   "outputs": [],
   "source": [
    "nlix.to_pickle('/home/alessandro/Documents/placemake/nightlife/nightlife_index.pkl')"
   ]
  },
  {
   "cell_type": "code",
   "execution_count": 60,
   "metadata": {
    "collapsed": false
   },
   "outputs": [
    {
     "data": {
      "text/plain": [
       "263"
      ]
     },
     "execution_count": 60,
     "metadata": {},
     "output_type": "execute_result"
    }
   ],
   "source": [
    "len(nlix)"
   ]
  },
  {
   "cell_type": "code",
   "execution_count": 61,
   "metadata": {
    "collapsed": true
   },
   "outputs": [],
   "source": [
    "nlix_max = nlix/nlix.max(axis=0)"
   ]
  },
  {
   "cell_type": "code",
   "execution_count": 62,
   "metadata": {
    "collapsed": true
   },
   "outputs": [],
   "source": [
    "nightlifeix = nlix_max[['Premises', 'Certificates', 'Lateness_week', 'Total_week', 'Total_sat', 'Lateness_sat', 'nl_ix_zomato']].fillna(0).mean(axis=1)"
   ]
  },
  {
   "cell_type": "code",
   "execution_count": 63,
   "metadata": {
    "collapsed": false
   },
   "outputs": [],
   "source": [
    "nightlifeix = pd.DataFrame(index=nlix_max.index, columns=['Popularity', 'Partying', 'Food', 'LateNight'])"
   ]
  },
  {
   "cell_type": "code",
   "execution_count": 64,
   "metadata": {
    "collapsed": false
   },
   "outputs": [],
   "source": [
    "nightlifeix['Partying'] = nlix_max[['Premises', 'Certificates', 'Lateness_week', 'Lateness_sat']].fillna(0).mean(axis=1)"
   ]
  },
  {
   "cell_type": "code",
   "execution_count": 65,
   "metadata": {
    "collapsed": false
   },
   "outputs": [],
   "source": [
    "nightlifeix['Food'] = nlix_max[['Total_week', 'Total_sat', 'Total_sun', 'nl_ix_zomato']].fillna(0).mean(axis=1)"
   ]
  },
  {
   "cell_type": "code",
   "execution_count": 66,
   "metadata": {
    "collapsed": true
   },
   "outputs": [],
   "source": [
    "nightlifeix['Popularity'] = nlix_max[['Total_week', 'Total_sat', 'Total_sun', 'pop_ix_zomato']].fillna(0).mean(axis=1)"
   ]
  },
  {
   "cell_type": "code",
   "execution_count": 67,
   "metadata": {
    "collapsed": true
   },
   "outputs": [],
   "source": [
    "nightlifeix['LateNight'] = nlix_max[['Lateness_week', 'Lateness_sat']].fillna(0).mean(axis=1)"
   ]
  },
  {
   "cell_type": "code",
   "execution_count": 69,
   "metadata": {
    "collapsed": false
   },
   "outputs": [],
   "source": [
    "nightlifeix['Latitude'] = pcd['lat'].values\n",
    "nightlifeix['Longitude'] = pcd['long'].values\n",
    "nightlifeix['sme_index'] = pcd['index'].values"
   ]
  },
  {
   "cell_type": "code",
   "execution_count": 70,
   "metadata": {
    "collapsed": false
   },
   "outputs": [],
   "source": [
    "nightlifeix.to_csv('/home/alessandro/Documents/placemake/nightlife/nightlife_index.csv')"
   ]
  },
  {
   "cell_type": "code",
   "execution_count": 71,
   "metadata": {
    "collapsed": false
   },
   "outputs": [
    {
     "data": {
      "text/html": [
       "<div>\n",
       "<table border=\"1\" class=\"dataframe\">\n",
       "  <thead>\n",
       "    <tr style=\"text-align: right;\">\n",
       "      <th></th>\n",
       "      <th>Popularity</th>\n",
       "      <th>Partying</th>\n",
       "      <th>Food</th>\n",
       "      <th>LateNight</th>\n",
       "      <th>Latitude</th>\n",
       "      <th>Longitude</th>\n",
       "      <th>sme_index</th>\n",
       "    </tr>\n",
       "  </thead>\n",
       "  <tbody>\n",
       "    <tr>\n",
       "      <th>Popularity</th>\n",
       "      <td>1.000000</td>\n",
       "      <td>0.332663</td>\n",
       "      <td>0.969851</td>\n",
       "      <td>0.411197</td>\n",
       "      <td>0.065000</td>\n",
       "      <td>0.013600</td>\n",
       "      <td>-0.193029</td>\n",
       "    </tr>\n",
       "    <tr>\n",
       "      <th>Partying</th>\n",
       "      <td>0.332663</td>\n",
       "      <td>1.000000</td>\n",
       "      <td>0.289326</td>\n",
       "      <td>0.920662</td>\n",
       "      <td>0.347187</td>\n",
       "      <td>-0.056075</td>\n",
       "      <td>-0.014259</td>\n",
       "    </tr>\n",
       "    <tr>\n",
       "      <th>Food</th>\n",
       "      <td>0.969851</td>\n",
       "      <td>0.289326</td>\n",
       "      <td>1.000000</td>\n",
       "      <td>0.376050</td>\n",
       "      <td>0.024182</td>\n",
       "      <td>-0.012988</td>\n",
       "      <td>-0.212399</td>\n",
       "    </tr>\n",
       "    <tr>\n",
       "      <th>LateNight</th>\n",
       "      <td>0.411197</td>\n",
       "      <td>0.920662</td>\n",
       "      <td>0.376050</td>\n",
       "      <td>1.000000</td>\n",
       "      <td>0.350244</td>\n",
       "      <td>-0.102286</td>\n",
       "      <td>-0.043261</td>\n",
       "    </tr>\n",
       "    <tr>\n",
       "      <th>Latitude</th>\n",
       "      <td>0.065000</td>\n",
       "      <td>0.347187</td>\n",
       "      <td>0.024182</td>\n",
       "      <td>0.350244</td>\n",
       "      <td>1.000000</td>\n",
       "      <td>0.146570</td>\n",
       "      <td>0.160182</td>\n",
       "    </tr>\n",
       "    <tr>\n",
       "      <th>Longitude</th>\n",
       "      <td>0.013600</td>\n",
       "      <td>-0.056075</td>\n",
       "      <td>-0.012988</td>\n",
       "      <td>-0.102286</td>\n",
       "      <td>0.146570</td>\n",
       "      <td>1.000000</td>\n",
       "      <td>-0.070447</td>\n",
       "    </tr>\n",
       "    <tr>\n",
       "      <th>sme_index</th>\n",
       "      <td>-0.193029</td>\n",
       "      <td>-0.014259</td>\n",
       "      <td>-0.212399</td>\n",
       "      <td>-0.043261</td>\n",
       "      <td>0.160182</td>\n",
       "      <td>-0.070447</td>\n",
       "      <td>1.000000</td>\n",
       "    </tr>\n",
       "  </tbody>\n",
       "</table>\n",
       "</div>"
      ],
      "text/plain": [
       "            Popularity  Partying      Food  LateNight  Latitude  Longitude  \\\n",
       "Popularity    1.000000  0.332663  0.969851   0.411197  0.065000   0.013600   \n",
       "Partying      0.332663  1.000000  0.289326   0.920662  0.347187  -0.056075   \n",
       "Food          0.969851  0.289326  1.000000   0.376050  0.024182  -0.012988   \n",
       "LateNight     0.411197  0.920662  0.376050   1.000000  0.350244  -0.102286   \n",
       "Latitude      0.065000  0.347187  0.024182   0.350244  1.000000   0.146570   \n",
       "Longitude     0.013600 -0.056075 -0.012988  -0.102286  0.146570   1.000000   \n",
       "sme_index    -0.193029 -0.014259 -0.212399  -0.043261  0.160182  -0.070447   \n",
       "\n",
       "            sme_index  \n",
       "Popularity  -0.193029  \n",
       "Partying    -0.014259  \n",
       "Food        -0.212399  \n",
       "LateNight   -0.043261  \n",
       "Latitude     0.160182  \n",
       "Longitude   -0.070447  \n",
       "sme_index    1.000000  "
      ]
     },
     "execution_count": 71,
     "metadata": {},
     "output_type": "execute_result"
    }
   ],
   "source": [
    "nightlifeix.corr()"
   ]
  },
  {
   "cell_type": "markdown",
   "metadata": {},
   "source": [
    "Finally added all the links so that they can be visualised on GMaps"
   ]
  },
  {
   "cell_type": "markdown",
   "metadata": {},
   "source": [
    "https://drive.google.com/open?id=1TjAnbGpEY1kBMQV-lYeJOl6bnqk&usp=sharing"
   ]
  }
 ],
 "metadata": {
  "kernelspec": {
   "display_name": "Python 2",
   "language": "python",
   "name": "python2"
  },
  "language_info": {
   "codemirror_mode": {
    "name": "ipython",
    "version": 2
   },
   "file_extension": ".py",
   "mimetype": "text/x-python",
   "name": "python",
   "nbconvert_exporter": "python",
   "pygments_lexer": "ipython2",
   "version": "2.7.12"
  }
 },
 "nbformat": 4,
 "nbformat_minor": 2
}
